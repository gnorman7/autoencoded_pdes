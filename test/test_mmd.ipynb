{
 "cells": [
  {
   "cell_type": "markdown",
   "metadata": {},
   "source": [
    "### Tests for MMD"
   ]
  },
  {
   "cell_type": "code",
   "execution_count": 8,
   "metadata": {},
   "outputs": [
    {
     "name": "stdout",
     "output_type": "stream",
     "text": [
      "Same Distributions, RQ Kernel: MMD^2: 0.00000234\n",
      "Diff Distributions, RQ Kernel: MMD^2: 0.00019234\n",
      "Same Distributions, Mixed Kernel: MMD^2: 0.00004208\n",
      "Diff Distributions, Mixed Kernel: MMD^2: 0.00285149\n"
     ]
    }
   ],
   "source": [
    "import sys\n",
    "import torch\n",
    "import matplotlib.pyplot as plt\n",
    "sys.path.append('..')\n",
    "import utils\n",
    "\n",
    "n_x = 1000\n",
    "n_y = 1000\n",
    "d = 128\n",
    "min_n = min(n_x, n_y)\n",
    "\n",
    "# Create random data\n",
    "torch.manual_seed(1)\n",
    "X1 = torch.randn(n_x, d)\n",
    "Y1 = torch.randn(n_y, d)\n",
    "\n",
    "# verify kernel size as n_x x n_y\n",
    "k = lambda x, y: utils.rq_kernel(x, y, alpha=1)\n",
    "K = k(X1, Y1)\n",
    "assert K.size() == (n_x, n_y)\n",
    "\n",
    "# check all nonnegative\n",
    "assert (K >= 0).all()\n",
    "\n",
    "mmd1 = utils.mmd2(X1, Y1, kernel=k)\n",
    "print('Same Distributions, RQ Kernel: MMD^2: {:.8f}'.format(mmd1.item()))\n",
    "\n",
    "# do mmd for different distributions\n",
    "X2 = torch.randn(n_x, d)\n",
    "Y2 = 1.1*torch.randn(n_y, d) + 0.1\n",
    "mmd2 = utils.mmd2(X2, Y2, kernel=k)\n",
    "\n",
    "print('Diff Distributions, RQ Kernel: MMD^2: {:.8f}'.format(mmd2.item()))\n",
    "\n",
    "assert mmd2 > mmd1\n",
    "\n",
    "# test mixed kernel\n",
    "alphas = [0.1, 0.2, 0.5, 1.0]\n",
    "k = lambda x, y: utils.mixture_rq_kernel(x, y, alphas=alphas)\n",
    "\n",
    "mmd3 = utils.mmd2(X1, Y1, kernel=k)\n",
    "print('Same Distributions, Mixed Kernel: MMD^2: {:.8f}'.format(mmd3.item()))\n",
    "\n",
    "mmd4 = utils.mmd2(X2, Y2, kernel=k)\n",
    "print('Diff Distributions, Mixed Kernel: MMD^2: {:.8f}'.format(mmd4.item()))\n",
    "\n",
    "assert mmd4 > mmd3"
   ]
  }
 ],
 "metadata": {
  "kernelspec": {
   "display_name": "torch-env",
   "language": "python",
   "name": "python3"
  },
  "language_info": {
   "codemirror_mode": {
    "name": "ipython",
    "version": 3
   },
   "file_extension": ".py",
   "mimetype": "text/x-python",
   "name": "python",
   "nbconvert_exporter": "python",
   "pygments_lexer": "ipython3",
   "version": "3.11.7"
  }
 },
 "nbformat": 4,
 "nbformat_minor": 2
}
